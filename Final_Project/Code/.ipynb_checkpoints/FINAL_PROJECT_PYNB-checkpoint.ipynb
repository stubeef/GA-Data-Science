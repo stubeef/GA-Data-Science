{
 "cells": [
  {
   "cell_type": "code",
   "execution_count": 23,
   "metadata": {
    "collapsed": true
   },
   "outputs": [],
   "source": [
    "import pandas as pd\n",
    "import datetime as dt\n",
    "import numpy as np\n",
    "%matplotlib inline\n",
    "import seaborn as sns\n",
    "import matplotlib.pyplot as plt\n",
    "sns.set(font_scale=1.5)"
   ]
  },
  {
   "cell_type": "code",
   "execution_count": 24,
   "metadata": {},
   "outputs": [
    {
     "name": "stderr",
     "output_type": "stream",
     "text": [
      "C:\\Users\\slai\\anaconda\\lib\\site-packages\\IPython\\core\\interactiveshell.py:2698: DtypeWarning: Columns (11,18) have mixed types. Specify dtype option on import or set low_memory=False.\n",
      "  interactivity=interactivity, compiler=compiler, result=result)\n"
     ]
    }
   ],
   "source": [
    "#Import data\n",
    "#Original data and data dictionary can be found here: https://data.cityofnewyork.us/Transportation/2016-Green-Taxi-Trip-Data/hvrh-b6nb\n",
    "url = '../../../final_project_data/2016_Green_Taxi_Trip_Data.csv'\n",
    "dftaxi = pd.read_csv(url)\n"
   ]
  },
  {
   "cell_type": "code",
   "execution_count": 25,
   "metadata": {},
   "outputs": [
    {
     "data": {
      "text/html": [
       "<div>\n",
       "<style>\n",
       "    .dataframe thead tr:only-child th {\n",
       "        text-align: right;\n",
       "    }\n",
       "\n",
       "    .dataframe thead th {\n",
       "        text-align: left;\n",
       "    }\n",
       "\n",
       "    .dataframe tbody tr th {\n",
       "        vertical-align: top;\n",
       "    }\n",
       "</style>\n",
       "<table border=\"1\" class=\"dataframe\">\n",
       "  <thead>\n",
       "    <tr style=\"text-align: right;\">\n",
       "      <th></th>\n",
       "      <th>VendorID</th>\n",
       "      <th>lpep_pickup_datetime</th>\n",
       "      <th>Lpep_dropoff_datetime</th>\n",
       "      <th>Store_and_fwd_flag</th>\n",
       "      <th>RateCodeID</th>\n",
       "      <th>Pickup_longitude</th>\n",
       "      <th>Pickup_latitude</th>\n",
       "      <th>Dropoff_longitude</th>\n",
       "      <th>Dropoff_latitude</th>\n",
       "      <th>Passenger_count</th>\n",
       "      <th>...</th>\n",
       "      <th>MTA_tax</th>\n",
       "      <th>Tip_amount</th>\n",
       "      <th>Tolls_amount</th>\n",
       "      <th>Ehail_fee</th>\n",
       "      <th>improvement_surcharge</th>\n",
       "      <th>Total_amount</th>\n",
       "      <th>Payment_type</th>\n",
       "      <th>Trip_type</th>\n",
       "      <th>PULocationID</th>\n",
       "      <th>DOLocationID</th>\n",
       "    </tr>\n",
       "  </thead>\n",
       "  <tbody>\n",
       "    <tr>\n",
       "      <th>0</th>\n",
       "      <td>2</td>\n",
       "      <td>01/01/2016 12:29:24 AM</td>\n",
       "      <td>01/01/2016 12:39:36 AM</td>\n",
       "      <td>N</td>\n",
       "      <td>1</td>\n",
       "      <td>-73.928642</td>\n",
       "      <td>40.680611</td>\n",
       "      <td>-73.924278</td>\n",
       "      <td>40.698044</td>\n",
       "      <td>1</td>\n",
       "      <td>...</td>\n",
       "      <td>0.5</td>\n",
       "      <td>1.86</td>\n",
       "      <td>0.0</td>\n",
       "      <td>NaN</td>\n",
       "      <td>0.3</td>\n",
       "      <td>11.16</td>\n",
       "      <td>1</td>\n",
       "      <td>1.0</td>\n",
       "      <td>NaN</td>\n",
       "      <td>NaN</td>\n",
       "    </tr>\n",
       "    <tr>\n",
       "      <th>1</th>\n",
       "      <td>2</td>\n",
       "      <td>01/01/2016 12:19:39 AM</td>\n",
       "      <td>01/01/2016 12:39:18 AM</td>\n",
       "      <td>N</td>\n",
       "      <td>1</td>\n",
       "      <td>-73.952675</td>\n",
       "      <td>40.723175</td>\n",
       "      <td>-73.923920</td>\n",
       "      <td>40.761379</td>\n",
       "      <td>1</td>\n",
       "      <td>...</td>\n",
       "      <td>0.5</td>\n",
       "      <td>0.00</td>\n",
       "      <td>0.0</td>\n",
       "      <td>NaN</td>\n",
       "      <td>0.3</td>\n",
       "      <td>16.8</td>\n",
       "      <td>2</td>\n",
       "      <td>1.0</td>\n",
       "      <td>NaN</td>\n",
       "      <td>NaN</td>\n",
       "    </tr>\n",
       "    <tr>\n",
       "      <th>2</th>\n",
       "      <td>2</td>\n",
       "      <td>01/01/2016 12:19:33 AM</td>\n",
       "      <td>01/01/2016 12:39:48 AM</td>\n",
       "      <td>N</td>\n",
       "      <td>1</td>\n",
       "      <td>-73.971611</td>\n",
       "      <td>40.676105</td>\n",
       "      <td>-74.013161</td>\n",
       "      <td>40.646072</td>\n",
       "      <td>1</td>\n",
       "      <td>...</td>\n",
       "      <td>0.5</td>\n",
       "      <td>4.45</td>\n",
       "      <td>0.0</td>\n",
       "      <td>NaN</td>\n",
       "      <td>0.3</td>\n",
       "      <td>22.25</td>\n",
       "      <td>1</td>\n",
       "      <td>1.0</td>\n",
       "      <td>NaN</td>\n",
       "      <td>NaN</td>\n",
       "    </tr>\n",
       "    <tr>\n",
       "      <th>3</th>\n",
       "      <td>2</td>\n",
       "      <td>01/01/2016 12:22:12 AM</td>\n",
       "      <td>01/01/2016 12:38:32 AM</td>\n",
       "      <td>N</td>\n",
       "      <td>1</td>\n",
       "      <td>-73.989502</td>\n",
       "      <td>40.669579</td>\n",
       "      <td>-74.000648</td>\n",
       "      <td>40.689034</td>\n",
       "      <td>1</td>\n",
       "      <td>...</td>\n",
       "      <td>0.5</td>\n",
       "      <td>0.00</td>\n",
       "      <td>0.0</td>\n",
       "      <td>NaN</td>\n",
       "      <td>0.3</td>\n",
       "      <td>14.8</td>\n",
       "      <td>2</td>\n",
       "      <td>1.0</td>\n",
       "      <td>NaN</td>\n",
       "      <td>NaN</td>\n",
       "    </tr>\n",
       "    <tr>\n",
       "      <th>4</th>\n",
       "      <td>2</td>\n",
       "      <td>01/01/2016 12:24:01 AM</td>\n",
       "      <td>01/01/2016 12:39:22 AM</td>\n",
       "      <td>N</td>\n",
       "      <td>1</td>\n",
       "      <td>-73.964729</td>\n",
       "      <td>40.682854</td>\n",
       "      <td>-73.940720</td>\n",
       "      <td>40.663013</td>\n",
       "      <td>1</td>\n",
       "      <td>...</td>\n",
       "      <td>0.5</td>\n",
       "      <td>0.00</td>\n",
       "      <td>0.0</td>\n",
       "      <td>NaN</td>\n",
       "      <td>0.3</td>\n",
       "      <td>13.3</td>\n",
       "      <td>2</td>\n",
       "      <td>1.0</td>\n",
       "      <td>NaN</td>\n",
       "      <td>NaN</td>\n",
       "    </tr>\n",
       "  </tbody>\n",
       "</table>\n",
       "<p>5 rows × 23 columns</p>\n",
       "</div>"
      ],
      "text/plain": [
       "   VendorID    lpep_pickup_datetime   Lpep_dropoff_datetime  \\\n",
       "0         2  01/01/2016 12:29:24 AM  01/01/2016 12:39:36 AM   \n",
       "1         2  01/01/2016 12:19:39 AM  01/01/2016 12:39:18 AM   \n",
       "2         2  01/01/2016 12:19:33 AM  01/01/2016 12:39:48 AM   \n",
       "3         2  01/01/2016 12:22:12 AM  01/01/2016 12:38:32 AM   \n",
       "4         2  01/01/2016 12:24:01 AM  01/01/2016 12:39:22 AM   \n",
       "\n",
       "  Store_and_fwd_flag  RateCodeID  Pickup_longitude  Pickup_latitude  \\\n",
       "0                  N           1        -73.928642        40.680611   \n",
       "1                  N           1        -73.952675        40.723175   \n",
       "2                  N           1        -73.971611        40.676105   \n",
       "3                  N           1        -73.989502        40.669579   \n",
       "4                  N           1        -73.964729        40.682854   \n",
       "\n",
       "   Dropoff_longitude  Dropoff_latitude  Passenger_count      ...       \\\n",
       "0         -73.924278         40.698044                1      ...        \n",
       "1         -73.923920         40.761379                1      ...        \n",
       "2         -74.013161         40.646072                1      ...        \n",
       "3         -74.000648         40.689034                1      ...        \n",
       "4         -73.940720         40.663013                1      ...        \n",
       "\n",
       "   MTA_tax Tip_amount  Tolls_amount  Ehail_fee  improvement_surcharge  \\\n",
       "0      0.5       1.86           0.0        NaN                    0.3   \n",
       "1      0.5       0.00           0.0        NaN                    0.3   \n",
       "2      0.5       4.45           0.0        NaN                    0.3   \n",
       "3      0.5       0.00           0.0        NaN                    0.3   \n",
       "4      0.5       0.00           0.0        NaN                    0.3   \n",
       "\n",
       "   Total_amount  Payment_type  Trip_type  PULocationID  DOLocationID  \n",
       "0         11.16             1         1.0          NaN           NaN  \n",
       "1          16.8             2         1.0          NaN           NaN  \n",
       "2         22.25             1         1.0          NaN           NaN  \n",
       "3          14.8             2         1.0          NaN           NaN  \n",
       "4          13.3             2         1.0          NaN           NaN  \n",
       "\n",
       "[5 rows x 23 columns]"
      ]
     },
     "execution_count": 25,
     "metadata": {},
     "output_type": "execute_result"
    }
   ],
   "source": [
    "\n",
    "dftaxi.head()"
   ]
  },
  {
   "cell_type": "code",
   "execution_count": 4,
   "metadata": {},
   "outputs": [
    {
     "data": {
      "text/html": [
       "<div>\n",
       "<style>\n",
       "    .dataframe thead tr:only-child th {\n",
       "        text-align: right;\n",
       "    }\n",
       "\n",
       "    .dataframe thead th {\n",
       "        text-align: left;\n",
       "    }\n",
       "\n",
       "    .dataframe tbody tr th {\n",
       "        vertical-align: top;\n",
       "    }\n",
       "</style>\n",
       "<table border=\"1\" class=\"dataframe\">\n",
       "  <thead>\n",
       "    <tr style=\"text-align: right;\">\n",
       "      <th></th>\n",
       "      <th>VendorID</th>\n",
       "      <th>lpep_pickup_datetime</th>\n",
       "      <th>Lpep_dropoff_datetime</th>\n",
       "      <th>Store_and_fwd_flag</th>\n",
       "      <th>RateCodeID</th>\n",
       "      <th>Pickup_longitude</th>\n",
       "      <th>Pickup_latitude</th>\n",
       "      <th>Dropoff_longitude</th>\n",
       "      <th>Dropoff_latitude</th>\n",
       "      <th>Passenger_count</th>\n",
       "      <th>...</th>\n",
       "      <th>MTA_tax</th>\n",
       "      <th>Tip_amount</th>\n",
       "      <th>Tolls_amount</th>\n",
       "      <th>Ehail_fee</th>\n",
       "      <th>improvement_surcharge</th>\n",
       "      <th>Total_amount</th>\n",
       "      <th>Payment_type</th>\n",
       "      <th>Trip_type</th>\n",
       "      <th>PULocationID</th>\n",
       "      <th>DOLocationID</th>\n",
       "    </tr>\n",
       "  </thead>\n",
       "  <tbody>\n",
       "  </tbody>\n",
       "</table>\n",
       "<p>0 rows × 23 columns</p>\n",
       "</div>"
      ],
      "text/plain": [
       "Empty DataFrame\n",
       "Columns: [VendorID, lpep_pickup_datetime, Lpep_dropoff_datetime, Store_and_fwd_flag, RateCodeID, Pickup_longitude, Pickup_latitude, Dropoff_longitude, Dropoff_latitude, Passenger_count, Trip_distance, Fare_amount, Extra, MTA_tax, Tip_amount, Tolls_amount, Ehail_fee, improvement_surcharge, Total_amount, Payment_type, Trip_type , PULocationID, DOLocationID]\n",
       "Index: []\n",
       "\n",
       "[0 rows x 23 columns]"
      ]
     },
     "execution_count": 4,
     "metadata": {},
     "output_type": "execute_result"
    }
   ],
   "source": [
    "#%% Ensure data quality. Do not have incorrect longitudes's in dataset. Returns empty dataframe!\n",
    "dftaxi[dftaxi['Pickup_longitude'] > 0]   "
   ]
  },
  {
   "cell_type": "code",
   "execution_count": 5,
   "metadata": {},
   "outputs": [
    {
     "data": {
      "text/plain": [
       "VendorID                 16385532\n",
       "lpep_pickup_datetime     16385532\n",
       "Lpep_dropoff_datetime    16385532\n",
       "Store_and_fwd_flag       16385532\n",
       "RateCodeID               16385532\n",
       "Pickup_longitude          9018030\n",
       "Pickup_latitude           9018030\n",
       "Dropoff_longitude         9018030\n",
       "Dropoff_latitude          9018030\n",
       "Passenger_count          16385532\n",
       "Trip_distance            16385532\n",
       "Fare_amount              16385532\n",
       "Extra                    16385532\n",
       "MTA_tax                  16385532\n",
       "Tip_amount               16385532\n",
       "Tolls_amount             16385532\n",
       "Ehail_fee                       0\n",
       "improvement_surcharge    16385532\n",
       "Total_amount             16385532\n",
       "Payment_type             16385532\n",
       "Trip_type                16385060\n",
       "PULocationID              7367502\n",
       "DOLocationID              7367502\n",
       "dtype: int64"
      ]
     },
     "execution_count": 5,
     "metadata": {},
     "output_type": "execute_result"
    }
   ],
   "source": [
    "#%% QC to check the differences between latitudes/longitudes and response variable. 7M row discrepancy. \n",
    "dftaxi.count()"
   ]
  },
  {
   "cell_type": "code",
   "execution_count": 6,
   "metadata": {},
   "outputs": [
    {
     "data": {
      "text/html": [
       "<div>\n",
       "<style>\n",
       "    .dataframe thead tr:only-child th {\n",
       "        text-align: right;\n",
       "    }\n",
       "\n",
       "    .dataframe thead th {\n",
       "        text-align: left;\n",
       "    }\n",
       "\n",
       "    .dataframe tbody tr th {\n",
       "        vertical-align: top;\n",
       "    }\n",
       "</style>\n",
       "<table border=\"1\" class=\"dataframe\">\n",
       "  <thead>\n",
       "    <tr style=\"text-align: right;\">\n",
       "      <th></th>\n",
       "      <th>VendorID</th>\n",
       "      <th>lpep_pickup_datetime</th>\n",
       "      <th>Lpep_dropoff_datetime</th>\n",
       "      <th>Store_and_fwd_flag</th>\n",
       "      <th>RateCodeID</th>\n",
       "      <th>Pickup_longitude</th>\n",
       "      <th>Pickup_latitude</th>\n",
       "      <th>Dropoff_longitude</th>\n",
       "      <th>Dropoff_latitude</th>\n",
       "      <th>Passenger_count</th>\n",
       "      <th>...</th>\n",
       "      <th>Ehail_fee</th>\n",
       "      <th>improvement_surcharge</th>\n",
       "      <th>Total_amount</th>\n",
       "      <th>Payment_type</th>\n",
       "      <th>Trip_type</th>\n",
       "      <th>PULocationID</th>\n",
       "      <th>DOLocationID</th>\n",
       "      <th>pickup_timestring</th>\n",
       "      <th>dropoff_timestring</th>\n",
       "      <th>response_variable</th>\n",
       "    </tr>\n",
       "  </thead>\n",
       "  <tbody>\n",
       "    <tr>\n",
       "      <th>0</th>\n",
       "      <td>2</td>\n",
       "      <td>01/01/2016 12:29:24 AM</td>\n",
       "      <td>01/01/2016 12:39:36 AM</td>\n",
       "      <td>N</td>\n",
       "      <td>1</td>\n",
       "      <td>-73.928642</td>\n",
       "      <td>40.680611</td>\n",
       "      <td>-73.924278</td>\n",
       "      <td>40.698044</td>\n",
       "      <td>1</td>\n",
       "      <td>...</td>\n",
       "      <td>NaN</td>\n",
       "      <td>0.3</td>\n",
       "      <td>11.16</td>\n",
       "      <td>1</td>\n",
       "      <td>1.0</td>\n",
       "      <td>NaN</td>\n",
       "      <td>NaN</td>\n",
       "      <td>01/01/2016</td>\n",
       "      <td>01/01/2016</td>\n",
       "      <td>1</td>\n",
       "    </tr>\n",
       "    <tr>\n",
       "      <th>1</th>\n",
       "      <td>2</td>\n",
       "      <td>01/01/2016 12:19:39 AM</td>\n",
       "      <td>01/01/2016 12:39:18 AM</td>\n",
       "      <td>N</td>\n",
       "      <td>1</td>\n",
       "      <td>-73.952675</td>\n",
       "      <td>40.723175</td>\n",
       "      <td>-73.923920</td>\n",
       "      <td>40.761379</td>\n",
       "      <td>1</td>\n",
       "      <td>...</td>\n",
       "      <td>NaN</td>\n",
       "      <td>0.3</td>\n",
       "      <td>16.8</td>\n",
       "      <td>2</td>\n",
       "      <td>1.0</td>\n",
       "      <td>NaN</td>\n",
       "      <td>NaN</td>\n",
       "      <td>01/01/2016</td>\n",
       "      <td>01/01/2016</td>\n",
       "      <td>1</td>\n",
       "    </tr>\n",
       "    <tr>\n",
       "      <th>2</th>\n",
       "      <td>2</td>\n",
       "      <td>01/01/2016 12:19:33 AM</td>\n",
       "      <td>01/01/2016 12:39:48 AM</td>\n",
       "      <td>N</td>\n",
       "      <td>1</td>\n",
       "      <td>-73.971611</td>\n",
       "      <td>40.676105</td>\n",
       "      <td>-74.013161</td>\n",
       "      <td>40.646072</td>\n",
       "      <td>1</td>\n",
       "      <td>...</td>\n",
       "      <td>NaN</td>\n",
       "      <td>0.3</td>\n",
       "      <td>22.25</td>\n",
       "      <td>1</td>\n",
       "      <td>1.0</td>\n",
       "      <td>NaN</td>\n",
       "      <td>NaN</td>\n",
       "      <td>01/01/2016</td>\n",
       "      <td>01/01/2016</td>\n",
       "      <td>1</td>\n",
       "    </tr>\n",
       "    <tr>\n",
       "      <th>3</th>\n",
       "      <td>2</td>\n",
       "      <td>01/01/2016 12:22:12 AM</td>\n",
       "      <td>01/01/2016 12:38:32 AM</td>\n",
       "      <td>N</td>\n",
       "      <td>1</td>\n",
       "      <td>-73.989502</td>\n",
       "      <td>40.669579</td>\n",
       "      <td>-74.000648</td>\n",
       "      <td>40.689034</td>\n",
       "      <td>1</td>\n",
       "      <td>...</td>\n",
       "      <td>NaN</td>\n",
       "      <td>0.3</td>\n",
       "      <td>14.8</td>\n",
       "      <td>2</td>\n",
       "      <td>1.0</td>\n",
       "      <td>NaN</td>\n",
       "      <td>NaN</td>\n",
       "      <td>01/01/2016</td>\n",
       "      <td>01/01/2016</td>\n",
       "      <td>1</td>\n",
       "    </tr>\n",
       "    <tr>\n",
       "      <th>4</th>\n",
       "      <td>2</td>\n",
       "      <td>01/01/2016 12:24:01 AM</td>\n",
       "      <td>01/01/2016 12:39:22 AM</td>\n",
       "      <td>N</td>\n",
       "      <td>1</td>\n",
       "      <td>-73.964729</td>\n",
       "      <td>40.682854</td>\n",
       "      <td>-73.940720</td>\n",
       "      <td>40.663013</td>\n",
       "      <td>1</td>\n",
       "      <td>...</td>\n",
       "      <td>NaN</td>\n",
       "      <td>0.3</td>\n",
       "      <td>13.3</td>\n",
       "      <td>2</td>\n",
       "      <td>1.0</td>\n",
       "      <td>NaN</td>\n",
       "      <td>NaN</td>\n",
       "      <td>01/01/2016</td>\n",
       "      <td>01/01/2016</td>\n",
       "      <td>1</td>\n",
       "    </tr>\n",
       "  </tbody>\n",
       "</table>\n",
       "<p>5 rows × 26 columns</p>\n",
       "</div>"
      ],
      "text/plain": [
       "   VendorID    lpep_pickup_datetime   Lpep_dropoff_datetime  \\\n",
       "0         2  01/01/2016 12:29:24 AM  01/01/2016 12:39:36 AM   \n",
       "1         2  01/01/2016 12:19:39 AM  01/01/2016 12:39:18 AM   \n",
       "2         2  01/01/2016 12:19:33 AM  01/01/2016 12:39:48 AM   \n",
       "3         2  01/01/2016 12:22:12 AM  01/01/2016 12:38:32 AM   \n",
       "4         2  01/01/2016 12:24:01 AM  01/01/2016 12:39:22 AM   \n",
       "\n",
       "  Store_and_fwd_flag  RateCodeID  Pickup_longitude  Pickup_latitude  \\\n",
       "0                  N           1        -73.928642        40.680611   \n",
       "1                  N           1        -73.952675        40.723175   \n",
       "2                  N           1        -73.971611        40.676105   \n",
       "3                  N           1        -73.989502        40.669579   \n",
       "4                  N           1        -73.964729        40.682854   \n",
       "\n",
       "   Dropoff_longitude  Dropoff_latitude  Passenger_count        ...          \\\n",
       "0         -73.924278         40.698044                1        ...           \n",
       "1         -73.923920         40.761379                1        ...           \n",
       "2         -74.013161         40.646072                1        ...           \n",
       "3         -74.000648         40.689034                1        ...           \n",
       "4         -73.940720         40.663013                1        ...           \n",
       "\n",
       "   Ehail_fee improvement_surcharge  Total_amount  Payment_type  Trip_type   \\\n",
       "0        NaN                   0.3         11.16             1         1.0   \n",
       "1        NaN                   0.3          16.8             2         1.0   \n",
       "2        NaN                   0.3         22.25             1         1.0   \n",
       "3        NaN                   0.3          14.8             2         1.0   \n",
       "4        NaN                   0.3          13.3             2         1.0   \n",
       "\n",
       "   PULocationID  DOLocationID  pickup_timestring dropoff_timestring  \\\n",
       "0           NaN           NaN         01/01/2016         01/01/2016   \n",
       "1           NaN           NaN         01/01/2016         01/01/2016   \n",
       "2           NaN           NaN         01/01/2016         01/01/2016   \n",
       "3           NaN           NaN         01/01/2016         01/01/2016   \n",
       "4           NaN           NaN         01/01/2016         01/01/2016   \n",
       "\n",
       "   response_variable  \n",
       "0                  1  \n",
       "1                  1  \n",
       "2                  1  \n",
       "3                  1  \n",
       "4                  1  \n",
       "\n",
       "[5 rows x 26 columns]"
      ]
     },
     "execution_count": 6,
     "metadata": {},
     "output_type": "execute_result"
    }
   ],
   "source": [
    "#%% Parse date from datetime\n",
    "dftaxi['pickup_timestring'] = dftaxi['lpep_pickup_datetime'].apply(lambda x: x.split(\" \")[0]) #pickup_timestring\n",
    "dftaxi['dropoff_timestring'] = dftaxi['Lpep_dropoff_datetime'].apply(lambda x: x.split(\" \")[0]) #dropoff_timestring\n",
    "#%% Assign Response variable. The response variable is where there is both a pickup and a dropoff, thus showing a sucessful and completed ride. \n",
    "dftaxi['response_variable'] = np.where(dftaxi.pickup_timestring is not None & dftaxi.dropoff_timestring is not None, '1',0)\n",
    "dftaxi.head()"
   ]
  },
  {
   "cell_type": "code",
   "execution_count": 7,
   "metadata": {},
   "outputs": [
    {
     "data": {
      "text/html": [
       "<div>\n",
       "<style>\n",
       "    .dataframe thead tr:only-child th {\n",
       "        text-align: right;\n",
       "    }\n",
       "\n",
       "    .dataframe thead th {\n",
       "        text-align: left;\n",
       "    }\n",
       "\n",
       "    .dataframe tbody tr th {\n",
       "        vertical-align: top;\n",
       "    }\n",
       "</style>\n",
       "<table border=\"1\" class=\"dataframe\">\n",
       "  <thead>\n",
       "    <tr style=\"text-align: right;\">\n",
       "      <th></th>\n",
       "      <th>VendorID</th>\n",
       "      <th>lpep_pickup_datetime</th>\n",
       "      <th>Lpep_dropoff_datetime</th>\n",
       "      <th>Store_and_fwd_flag</th>\n",
       "      <th>RateCodeID</th>\n",
       "      <th>Pickup_longitude</th>\n",
       "      <th>Pickup_latitude</th>\n",
       "      <th>Dropoff_longitude</th>\n",
       "      <th>Dropoff_latitude</th>\n",
       "      <th>Passenger_count</th>\n",
       "      <th>...</th>\n",
       "      <th>Ehail_fee</th>\n",
       "      <th>improvement_surcharge</th>\n",
       "      <th>Total_amount</th>\n",
       "      <th>Payment_type</th>\n",
       "      <th>Trip_type</th>\n",
       "      <th>PULocationID</th>\n",
       "      <th>DOLocationID</th>\n",
       "      <th>pickup_timestring</th>\n",
       "      <th>dropoff_timestring</th>\n",
       "      <th>response_variable</th>\n",
       "    </tr>\n",
       "  </thead>\n",
       "  <tbody>\n",
       "  </tbody>\n",
       "</table>\n",
       "<p>0 rows × 26 columns</p>\n",
       "</div>"
      ],
      "text/plain": [
       "Empty DataFrame\n",
       "Columns: [VendorID, lpep_pickup_datetime, Lpep_dropoff_datetime, Store_and_fwd_flag, RateCodeID, Pickup_longitude, Pickup_latitude, Dropoff_longitude, Dropoff_latitude, Passenger_count, Trip_distance, Fare_amount, Extra, MTA_tax, Tip_amount, Tolls_amount, Ehail_fee, improvement_surcharge, Total_amount, Payment_type, Trip_type , PULocationID, DOLocationID, pickup_timestring, dropoff_timestring, response_variable]\n",
       "Index: []\n",
       "\n",
       "[0 rows x 26 columns]"
      ]
     },
     "execution_count": 7,
     "metadata": {},
     "output_type": "execute_result"
    }
   ],
   "source": [
    "#%% Check to ensure that all rows have a response variable\n",
    "dftaxi[dftaxi['response_variable'] == '0'] \n",
    "#returns empty dataframe! "
   ]
  },
  {
   "cell_type": "code",
   "execution_count": 8,
   "metadata": {},
   "outputs": [
    {
     "name": "stdout",
     "output_type": "stream",
     "text": [
      "   VendorID    lpep_pickup_datetime   Lpep_dropoff_datetime  \\\n",
      "0         2  01/01/2016 12:29:24 AM  01/01/2016 12:39:36 AM   \n",
      "1         2  01/01/2016 12:19:39 AM  01/01/2016 12:39:18 AM   \n",
      "2         2  01/01/2016 12:19:33 AM  01/01/2016 12:39:48 AM   \n",
      "3         2  01/01/2016 12:22:12 AM  01/01/2016 12:38:32 AM   \n",
      "4         2  01/01/2016 12:24:01 AM  01/01/2016 12:39:22 AM   \n",
      "\n",
      "  Store_and_fwd_flag  RateCodeID  Pickup_longitude  Pickup_latitude  \\\n",
      "0                  N           1        -73.928642        40.680611   \n",
      "1                  N           1        -73.952675        40.723175   \n",
      "2                  N           1        -73.971611        40.676105   \n",
      "3                  N           1        -73.989502        40.669579   \n",
      "4                  N           1        -73.964729        40.682854   \n",
      "\n",
      "   Dropoff_longitude  Dropoff_latitude  Passenger_count  \\\n",
      "0         -73.924278         40.698044                1   \n",
      "1         -73.923920         40.761379                1   \n",
      "2         -74.013161         40.646072                1   \n",
      "3         -74.000648         40.689034                1   \n",
      "4         -73.940720         40.663013                1   \n",
      "\n",
      "            ...             improvement_surcharge Total_amount  Payment_type  \\\n",
      "0           ...                               0.3        11.16             1   \n",
      "1           ...                               0.3         16.8             2   \n",
      "2           ...                               0.3        22.25             1   \n",
      "3           ...                               0.3         14.8             2   \n",
      "4           ...                               0.3         13.3             2   \n",
      "\n",
      "   Trip_type   PULocationID  DOLocationID  pickup_timestring  \\\n",
      "0         1.0           NaN           NaN         01/01/2016   \n",
      "1         1.0           NaN           NaN         01/01/2016   \n",
      "2         1.0           NaN           NaN         01/01/2016   \n",
      "3         1.0           NaN           NaN         01/01/2016   \n",
      "4         1.0           NaN           NaN         01/01/2016   \n",
      "\n",
      "   dropoff_timestring response_variable  pickup_timestring_month  \n",
      "0          01/01/2016                 1                       01  \n",
      "1          01/01/2016                 1                       01  \n",
      "2          01/01/2016                 1                       01  \n",
      "3          01/01/2016                 1                       01  \n",
      "4          01/01/2016                 1                       01  \n",
      "\n",
      "[5 rows x 27 columns]\n"
     ]
    }
   ],
   "source": [
    "#%% Get month out of timestring\n",
    "dftaxi['pickup_timestring_month'] = dftaxi['pickup_timestring'].apply(lambda x: x.split(\"/\")[0]) #pickup_timestring_month\n",
    "print(dftaxi.head())\n",
    "#%% Get Day out of timestring\n",
    "dftaxi['pickup_timestring_day'] = dftaxi['pickup_timestring'].apply(lambda x: x.split(\"/\")[1]) #pickup_timestring_day"
   ]
  },
  {
   "cell_type": "code",
   "execution_count": 9,
   "metadata": {},
   "outputs": [
    {
     "name": "stdout",
     "output_type": "stream",
     "text": [
      "  pickup_timestring  Passenger_count  Trip_distance Total_amount  \\\n",
      "0        01/01/2016                1           1.46        11.16   \n",
      "1        01/01/2016                1           3.56         16.8   \n",
      "2        01/01/2016                1           3.79        22.25   \n",
      "3        01/01/2016                1           3.01         14.8   \n",
      "4        01/01/2016                1           2.55         13.3   \n",
      "\n",
      "  response_variable  \n",
      "0                 1  \n",
      "1                 1  \n",
      "2                 1  \n",
      "3                 1  \n",
      "4                 1  \n",
      "pickup_timestring     object\n",
      "Passenger_count        int64\n",
      "Trip_distance        float64\n",
      "Total_amount          object\n",
      "response_variable     object\n",
      "dtype: object\n"
     ]
    }
   ],
   "source": [
    "#%% Subset to relevant columns.\n",
    "dftaxi = dftaxi[['pickup_timestring','Passenger_count','Trip_distance','Total_amount','response_variable']]\n",
    "print(dftaxi.head())\n",
    "print(dftaxi.dtypes)"
   ]
  },
  {
   "cell_type": "code",
   "execution_count": 10,
   "metadata": {},
   "outputs": [
    {
     "name": "stderr",
     "output_type": "stream",
     "text": [
      "C:\\Users\\slai\\anaconda\\lib\\site-packages\\ipykernel_launcher.py:3: FutureWarning: convert_objects is deprecated.  Use the data-type specific converters pd.to_datetime, pd.to_timedelta and pd.to_numeric.\n",
      "  This is separate from the ipykernel package so we can avoid doing imports until\n"
     ]
    },
    {
     "name": "stdout",
     "output_type": "stream",
     "text": [
      "pickup_timestring     object\n",
      "Passenger_count        int64\n",
      "Trip_distance        float64\n",
      "Total_amount         float64\n",
      "response_variable      int64\n",
      "dtype: object\n"
     ]
    }
   ],
   "source": [
    "#%% Convert to numeric\n",
    "\n",
    "dftaxi[['Total_amount','response_variable']] = dftaxi[['Total_amount','response_variable']].convert_objects(convert_numeric=True) #deprecated, yet works\n",
    "print(dftaxi.dtypes)"
   ]
  },
  {
   "cell_type": "code",
   "execution_count": 11,
   "metadata": {},
   "outputs": [
    {
     "name": "stdout",
     "output_type": "stream",
     "text": [
      "  pickup_timestring  Passenger_count  Trip_distance   Total_amount  \\\n",
      "0        01/01/2016            91243      207873.29  979082.440001   \n",
      "1        01/02/2016            64687      133957.87  656240.850000   \n",
      "2        01/03/2016            60679      129856.68  633191.690000   \n",
      "3        01/04/2016            59229      112022.19  603734.300000   \n",
      "4        01/05/2016            56470      110158.20  593993.790000   \n",
      "\n",
      "   response_variable  \n",
      "0              64396  \n",
      "1              46958  \n",
      "2              44270  \n",
      "3              43740  \n",
      "4              42342  \n",
      "pickup_timestring     object\n",
      "Passenger_count        int64\n",
      "Trip_distance        float64\n",
      "Total_amount         float64\n",
      "response_variable      int64\n",
      "dtype: object\n",
      "Number of rows in daily aggregated view 366\n"
     ]
    }
   ],
   "source": [
    "#%% Group by day\n",
    "dftaxi_day = dftaxi[['pickup_timestring','Passenger_count','Trip_distance','Total_amount','response_variable']]\n",
    "dftaxi_day = dftaxi_day.groupby(['pickup_timestring'],as_index=False).sum() \n",
    "print(dftaxi_day.head())\n",
    "print(dftaxi_day.dtypes)\n",
    "print('Number of rows in daily aggregated view', len(dftaxi_day))\n"
   ]
  },
  {
   "cell_type": "code",
   "execution_count": 12,
   "metadata": {
    "collapsed": true
   },
   "outputs": [],
   "source": [
    "#%% Convert to date_time and set index\n",
    "dftaxi_day[['pickup_timestring']]= pd.to_datetime(dftaxi_day['pickup_timestring'])\n",
    "dftaxi_day.set_index('pickup_timestring',inplace=True)"
   ]
  },
  {
   "cell_type": "code",
   "execution_count": 13,
   "metadata": {},
   "outputs": [
    {
     "data": {
      "text/html": [
       "<div>\n",
       "<style>\n",
       "    .dataframe thead tr:only-child th {\n",
       "        text-align: right;\n",
       "    }\n",
       "\n",
       "    .dataframe thead th {\n",
       "        text-align: left;\n",
       "    }\n",
       "\n",
       "    .dataframe tbody tr th {\n",
       "        vertical-align: top;\n",
       "    }\n",
       "</style>\n",
       "<table border=\"1\" class=\"dataframe\">\n",
       "  <thead>\n",
       "    <tr style=\"text-align: right;\">\n",
       "      <th></th>\n",
       "      <th>Passenger_count</th>\n",
       "      <th>Trip_distance</th>\n",
       "      <th>Total_amount</th>\n",
       "      <th>response_variable</th>\n",
       "    </tr>\n",
       "    <tr>\n",
       "      <th>pickup_timestring</th>\n",
       "      <th></th>\n",
       "      <th></th>\n",
       "      <th></th>\n",
       "      <th></th>\n",
       "    </tr>\n",
       "  </thead>\n",
       "  <tbody>\n",
       "    <tr>\n",
       "      <th>2016-01-01</th>\n",
       "      <td>91243</td>\n",
       "      <td>207873.29</td>\n",
       "      <td>979082.440001</td>\n",
       "      <td>64396</td>\n",
       "    </tr>\n",
       "    <tr>\n",
       "      <th>2016-01-02</th>\n",
       "      <td>64687</td>\n",
       "      <td>133957.87</td>\n",
       "      <td>656240.850000</td>\n",
       "      <td>46958</td>\n",
       "    </tr>\n",
       "    <tr>\n",
       "      <th>2016-01-03</th>\n",
       "      <td>60679</td>\n",
       "      <td>129856.68</td>\n",
       "      <td>633191.690000</td>\n",
       "      <td>44270</td>\n",
       "    </tr>\n",
       "    <tr>\n",
       "      <th>2016-01-04</th>\n",
       "      <td>59229</td>\n",
       "      <td>112022.19</td>\n",
       "      <td>603734.300000</td>\n",
       "      <td>43740</td>\n",
       "    </tr>\n",
       "    <tr>\n",
       "      <th>2016-01-05</th>\n",
       "      <td>56470</td>\n",
       "      <td>110158.20</td>\n",
       "      <td>593993.790000</td>\n",
       "      <td>42342</td>\n",
       "    </tr>\n",
       "  </tbody>\n",
       "</table>\n",
       "</div>"
      ],
      "text/plain": [
       "                   Passenger_count  Trip_distance   Total_amount  \\\n",
       "pickup_timestring                                                  \n",
       "2016-01-01                   91243      207873.29  979082.440001   \n",
       "2016-01-02                   64687      133957.87  656240.850000   \n",
       "2016-01-03                   60679      129856.68  633191.690000   \n",
       "2016-01-04                   59229      112022.19  603734.300000   \n",
       "2016-01-05                   56470      110158.20  593993.790000   \n",
       "\n",
       "                   response_variable  \n",
       "pickup_timestring                     \n",
       "2016-01-01                     64396  \n",
       "2016-01-02                     46958  \n",
       "2016-01-03                     44270  \n",
       "2016-01-04                     43740  \n",
       "2016-01-05                     42342  "
      ]
     },
     "execution_count": 13,
     "metadata": {},
     "output_type": "execute_result"
    }
   ],
   "source": [
    "dftaxi_day.head()"
   ]
  },
  {
   "cell_type": "code",
   "execution_count": 14,
   "metadata": {
    "collapsed": true
   },
   "outputs": [],
   "source": [
    "#%% Export clean file to CSV\n",
    "path = '..\\Data\\dftaxi_by_day.csv'\n",
    "dftaxi_day.to_csv(path,sep=',',index=True,header=True)"
   ]
  },
  {
   "cell_type": "code",
   "execution_count": 15,
   "metadata": {},
   "outputs": [
    {
     "data": {
      "text/html": [
       "<div>\n",
       "<style>\n",
       "    .dataframe thead tr:only-child th {\n",
       "        text-align: right;\n",
       "    }\n",
       "\n",
       "    .dataframe thead th {\n",
       "        text-align: left;\n",
       "    }\n",
       "\n",
       "    .dataframe tbody tr th {\n",
       "        vertical-align: top;\n",
       "    }\n",
       "</style>\n",
       "<table border=\"1\" class=\"dataframe\">\n",
       "  <thead>\n",
       "    <tr style=\"text-align: right;\">\n",
       "      <th></th>\n",
       "      <th>pickup_timestring</th>\n",
       "      <th>Passenger_count</th>\n",
       "      <th>Trip_distance</th>\n",
       "      <th>Total_amount</th>\n",
       "      <th>response_variable</th>\n",
       "    </tr>\n",
       "  </thead>\n",
       "  <tbody>\n",
       "    <tr>\n",
       "      <th>0</th>\n",
       "      <td>2016-01-01</td>\n",
       "      <td>91243</td>\n",
       "      <td>207873.29</td>\n",
       "      <td>979082.440001</td>\n",
       "      <td>64396</td>\n",
       "    </tr>\n",
       "    <tr>\n",
       "      <th>1</th>\n",
       "      <td>2016-01-02</td>\n",
       "      <td>64687</td>\n",
       "      <td>133957.87</td>\n",
       "      <td>656240.850000</td>\n",
       "      <td>46958</td>\n",
       "    </tr>\n",
       "    <tr>\n",
       "      <th>2</th>\n",
       "      <td>2016-01-03</td>\n",
       "      <td>60679</td>\n",
       "      <td>129856.68</td>\n",
       "      <td>633191.690000</td>\n",
       "      <td>44270</td>\n",
       "    </tr>\n",
       "    <tr>\n",
       "      <th>3</th>\n",
       "      <td>2016-01-04</td>\n",
       "      <td>59229</td>\n",
       "      <td>112022.19</td>\n",
       "      <td>603734.300000</td>\n",
       "      <td>43740</td>\n",
       "    </tr>\n",
       "    <tr>\n",
       "      <th>4</th>\n",
       "      <td>2016-01-05</td>\n",
       "      <td>56470</td>\n",
       "      <td>110158.20</td>\n",
       "      <td>593993.790000</td>\n",
       "      <td>42342</td>\n",
       "    </tr>\n",
       "  </tbody>\n",
       "</table>\n",
       "</div>"
      ],
      "text/plain": [
       "  pickup_timestring  Passenger_count  Trip_distance   Total_amount  \\\n",
       "0        2016-01-01            91243      207873.29  979082.440001   \n",
       "1        2016-01-02            64687      133957.87  656240.850000   \n",
       "2        2016-01-03            60679      129856.68  633191.690000   \n",
       "3        2016-01-04            59229      112022.19  603734.300000   \n",
       "4        2016-01-05            56470      110158.20  593993.790000   \n",
       "\n",
       "   response_variable  \n",
       "0              64396  \n",
       "1              46958  \n",
       "2              44270  \n",
       "3              43740  \n",
       "4              42342  "
      ]
     },
     "execution_count": 15,
     "metadata": {},
     "output_type": "execute_result"
    }
   ],
   "source": [
    "#Import clean file. \n",
    "url = '..\\Data\\dftaxi_by_day.csv'\n",
    "dftaxi_day = pd.read_csv(url)\n",
    "dftaxi_day.head()"
   ]
  },
  {
   "cell_type": "code",
   "execution_count": 16,
   "metadata": {},
   "outputs": [
    {
     "data": {
      "text/html": [
       "<div>\n",
       "<style>\n",
       "    .dataframe thead tr:only-child th {\n",
       "        text-align: right;\n",
       "    }\n",
       "\n",
       "    .dataframe thead th {\n",
       "        text-align: left;\n",
       "    }\n",
       "\n",
       "    .dataframe tbody tr th {\n",
       "        vertical-align: top;\n",
       "    }\n",
       "</style>\n",
       "<table border=\"1\" class=\"dataframe\">\n",
       "  <thead>\n",
       "    <tr style=\"text-align: right;\">\n",
       "      <th></th>\n",
       "      <th>Passenger_count</th>\n",
       "      <th>Trip_distance</th>\n",
       "      <th>Total_amount</th>\n",
       "      <th>response_variable</th>\n",
       "    </tr>\n",
       "    <tr>\n",
       "      <th>pickup_timestring</th>\n",
       "      <th></th>\n",
       "      <th></th>\n",
       "      <th></th>\n",
       "      <th></th>\n",
       "    </tr>\n",
       "  </thead>\n",
       "  <tbody>\n",
       "    <tr>\n",
       "      <th>2016-01-01</th>\n",
       "      <td>91243</td>\n",
       "      <td>207873.29</td>\n",
       "      <td>979082.440001</td>\n",
       "      <td>64396</td>\n",
       "    </tr>\n",
       "    <tr>\n",
       "      <th>2016-01-02</th>\n",
       "      <td>64687</td>\n",
       "      <td>133957.87</td>\n",
       "      <td>656240.850000</td>\n",
       "      <td>46958</td>\n",
       "    </tr>\n",
       "    <tr>\n",
       "      <th>2016-01-03</th>\n",
       "      <td>60679</td>\n",
       "      <td>129856.68</td>\n",
       "      <td>633191.690000</td>\n",
       "      <td>44270</td>\n",
       "    </tr>\n",
       "    <tr>\n",
       "      <th>2016-01-04</th>\n",
       "      <td>59229</td>\n",
       "      <td>112022.19</td>\n",
       "      <td>603734.300000</td>\n",
       "      <td>43740</td>\n",
       "    </tr>\n",
       "    <tr>\n",
       "      <th>2016-01-05</th>\n",
       "      <td>56470</td>\n",
       "      <td>110158.20</td>\n",
       "      <td>593993.790000</td>\n",
       "      <td>42342</td>\n",
       "    </tr>\n",
       "  </tbody>\n",
       "</table>\n",
       "</div>"
      ],
      "text/plain": [
       "                   Passenger_count  Trip_distance   Total_amount  \\\n",
       "pickup_timestring                                                  \n",
       "2016-01-01                   91243      207873.29  979082.440001   \n",
       "2016-01-02                   64687      133957.87  656240.850000   \n",
       "2016-01-03                   60679      129856.68  633191.690000   \n",
       "2016-01-04                   59229      112022.19  603734.300000   \n",
       "2016-01-05                   56470      110158.20  593993.790000   \n",
       "\n",
       "                   response_variable  \n",
       "pickup_timestring                     \n",
       "2016-01-01                     64396  \n",
       "2016-01-02                     46958  \n",
       "2016-01-03                     44270  \n",
       "2016-01-04                     43740  \n",
       "2016-01-05                     42342  "
      ]
     },
     "execution_count": 16,
     "metadata": {},
     "output_type": "execute_result"
    }
   ],
   "source": [
    "#Set index again, just to be sure. \n",
    "dftaxi_day.set_index('pickup_timestring',inplace=True)\n",
    "dftaxi_day.head()"
   ]
  },
  {
   "cell_type": "code",
   "execution_count": 37,
   "metadata": {},
   "outputs": [
    {
     "data": {
      "text/plain": [
       "<matplotlib.axes._subplots.AxesSubplot at 0x201c0652e80>"
      ]
     },
     "execution_count": 37,
     "metadata": {},
     "output_type": "execute_result"
    },
    {
     "data": {
      "image/png": "[encoded data removed]",
      "text/plain": [
       "<matplotlib.figure.Figure at 0x201c0608a58>"
      ]
     },
     "metadata": {},
     "output_type": "display_data"
    }
   ],
   "source": [
    "#%% Trends in daily data. Defaults to index for x. Data follows a cyclical pattern, should be autocorrelated. \n",
    "dftaxi_day.plot(y='response_variable',kind='line')\n",
    "\n"
   ]
  },
  {
   "cell_type": "code",
   "execution_count": 18,
   "metadata": {
    "collapsed": true
   },
   "outputs": [],
   "source": [
    "#%% Train/Test Split\n",
    "dftaxi_day = dftaxi_day[['response_variable']].astype(float)\n",
    "n = len(dftaxi_day.response_variable)\n",
    "\n",
    "train = dftaxi_day.response_variable[:int(.75*n)]\n",
    "test = dftaxi_day.response_variable[int(.75*n):]"
   ]
  },
  {
   "cell_type": "code",
   "execution_count": 19,
   "metadata": {},
   "outputs": [
    {
     "name": "stderr",
     "output_type": "stream",
     "text": [
      "C:\\Users\\slai\\anaconda\\lib\\site-packages\\statsmodels\\compat\\pandas.py:56: FutureWarning: The pandas.core.datetools module is deprecated and will be removed in a future version. Please use the pandas.tseries module instead.\n",
      "  from pandas.core import datetools\n"
     ]
    },
    {
     "data": {
      "image/png": "[encoded data removed]",
      "text/plain": [
       "<matplotlib.figure.Figure at 0x201b87ecf98>"
      ]
     },
     "execution_count": 19,
     "metadata": {},
     "output_type": "execute_result"
    },
    {
     "data": {
      "image/png": "[encoded data removed]",
      "text/plain": [
       "<matplotlib.figure.Figure at 0x200aa1f7da0>"
      ]
     },
     "metadata": {},
     "output_type": "display_data"
    },
    {
     "data": {
      "image/png": "[encoded data removed]",
      "text/plain": [
       "<matplotlib.figure.Figure at 0x201b87ecf98>"
      ]
     },
     "metadata": {},
     "output_type": "display_data"
    }
   ],
   "source": [
    "%matplotlib inline\n",
    "from pandas.plotting import autocorrelation_plot\n",
    "#Decreasing lag suggests highly autocorrelated dataset\n",
    "plot_acf = autocorrelation_plot(train)\n",
    "\n",
    "#find ideal lag. Cyclical spikes means we have a cycle\n",
    "from statsmodels.graphics.tsaplots import plot_acf\n",
    "#from pandas.core import datetools\n",
    "plot_acf(train, lags=52)"
   ]
  },
  {
   "cell_type": "code",
   "execution_count": 20,
   "metadata": {},
   "outputs": [
    {
     "name": "stdout",
     "output_type": "stream",
     "text": [
      "0.615076924988\n",
      "0.778806908884\n",
      "0.763325870277\n",
      "-0.271619345939\n"
     ]
    }
   ],
   "source": [
    "#%% Train autocorrelation\n",
    "print (train.autocorr(lag=1)) # 0.61\n",
    "print (train.autocorr(lag=7)) # 0.78\n",
    "print (train.autocorr(lag=21)) # 0.76, Works better than 7\n",
    "print (train.autocorr(lag=52)) # -0.27"
   ]
  },
  {
   "cell_type": "code",
   "execution_count": 21,
   "metadata": {},
   "outputs": [
    {
     "name": "stdout",
     "output_type": "stream",
     "text": [
      "                              ARMA Model Results                              \n",
      "==============================================================================\n",
      "Dep. Variable:      response_variable   No. Observations:                  274\n",
      "Model:                     ARMA(1, 0)   Log Likelihood               -2825.004\n",
      "Method:                       css-mle   S.D. of innovations           7262.061\n",
      "Date:                Thu, 16 Nov 2017   AIC                           5656.007\n",
      "Time:                        21:23:28   BIC                           5666.847\n",
      "Sample:                    01-01-2016   HQIC                          5660.358\n",
      "                         - 09-30-2016                                         \n",
      "===========================================================================================\n",
      "                              coef    std err          z      P>|z|      [0.025      0.975]\n",
      "-------------------------------------------------------------------------------------------\n",
      "const                    4.669e+04   1139.445     40.972      0.000    4.45e+04    4.89e+04\n",
      "ar.L1.response_variable     0.6171      0.048     12.919      0.000       0.524       0.711\n",
      "                                    Roots                                    \n",
      "=============================================================================\n",
      "                 Real           Imaginary           Modulus         Frequency\n",
      "-----------------------------------------------------------------------------\n",
      "AR.1            1.6204           +0.0000j            1.6204            0.0000\n",
      "-----------------------------------------------------------------------------\n",
      "AxesSubplot(0.125,0.125;0.775x0.755)\n",
      "Figure(432x288)\n"
     ]
    },
    {
     "data": {
      "image/png": "[encoded data removed]",
      "text/plain": [
       "<matplotlib.figure.Figure at 0x201b96bc2e8>"
      ]
     },
     "metadata": {},
     "output_type": "display_data"
    },
    {
     "data": {
      "image/png": "[encoded data removed]",
      "text/plain": [
       "<matplotlib.figure.Figure at 0x201b96bc240>"
      ]
     },
     "metadata": {},
     "output_type": "display_data"
    }
   ],
   "source": [
    "#%% Train stationarity\n",
    "from statsmodels.tsa.arima_model import ARMA\n",
    "from statsmodels.tsa.arima_model import ARIMA\n",
    "model = ARMA(train, (1, 0)).fit()\n",
    "print(model.summary())\n",
    "#Matches autocorr(1), therefore stationary dataset!\n",
    "#%  Train Residuals for AR(1)\n",
    "type(model.resid)\n",
    "print(model.resid.plot())\n",
    "print(plot_acf(model.resid, lags = 50))"
   ]
  },
  {
   "cell_type": "code",
   "execution_count": 51,
   "metadata": {},
   "outputs": [
    {
     "name": "stderr",
     "output_type": "stream",
     "text": [
      "C:\\Users\\slai\\anaconda\\lib\\site-packages\\statsmodels\\base\\model.py:496: ConvergenceWarning: Maximum Likelihood optimization failed to converge. Check mle_retvals\n",
      "  \"Check mle_retvals\", ConvergenceWarning)\n"
     ]
    },
    {
     "name": "stdout",
     "output_type": "stream",
     "text": [
      "AxesSubplot(0.125,0.125;0.775x0.755)\n",
      "Figure(432x288)\n",
      "Mean absolute error:  39474.3556528\n"
     ]
    },
    {
     "data": {
      "text/html": [
       "<table class=\"simpletable\">\n",
       "<caption>ARMA Model Results</caption>\n",
       "<tr>\n",
       "  <th>Dep. Variable:</th> <td>response_variable</td> <th>  No. Observations:  </th>    <td>274</td>   \n",
       "</tr>\n",
       "<tr>\n",
       "  <th>Model:</th>            <td>ARMA(1, 0)</td>     <th>  Log Likelihood     </th> <td>-2825.004</td>\n",
       "</tr>\n",
       "<tr>\n",
       "  <th>Method:</th>             <td>css-mle</td>      <th>  S.D. of innovations</th> <td>7262.061</td> \n",
       "</tr>\n",
       "<tr>\n",
       "  <th>Date:</th>          <td>Thu, 16 Nov 2017</td>  <th>  AIC                </th> <td>5656.007</td> \n",
       "</tr>\n",
       "<tr>\n",
       "  <th>Time:</th>              <td>22:07:38</td>      <th>  BIC                </th> <td>5666.847</td> \n",
       "</tr>\n",
       "<tr>\n",
       "  <th>Sample:</th>           <td>01-01-2016</td>     <th>  HQIC               </th> <td>5660.358</td> \n",
       "</tr>\n",
       "<tr>\n",
       "  <th></th>                 <td>- 09-30-2016</td>    <th>                     </th>     <td> </td>    \n",
       "</tr>\n",
       "</table>\n",
       "<table class=\"simpletable\">\n",
       "<tr>\n",
       "             <td></td>                <th>coef</th>     <th>std err</th>      <th>z</th>      <th>P>|z|</th>  <th>[0.025</th>    <th>0.975]</th>  \n",
       "</tr>\n",
       "<tr>\n",
       "  <th>const</th>                   <td> 4.669e+04</td> <td> 1139.445</td> <td>   40.972</td> <td> 0.000</td> <td> 4.45e+04</td> <td> 4.89e+04</td>\n",
       "</tr>\n",
       "<tr>\n",
       "  <th>ar.L1.response_variable</th> <td>    0.6171</td> <td>    0.048</td> <td>   12.919</td> <td> 0.000</td> <td>    0.524</td> <td>    0.711</td>\n",
       "</tr>\n",
       "</table>\n",
       "<table class=\"simpletable\">\n",
       "<caption>Roots</caption>\n",
       "<tr>\n",
       "    <td></td>   <th>           Real</th> <th>         Imaginary</th> <th>         Modulus</th> <th>        Frequency</th>\n",
       "</tr>\n",
       "<tr>\n",
       "  <th>AR.1</th>               1.6204                    +0.0000j                    1.6204                    0.0000     \n",
       "</tr>\n",
       "</table>"
      ],
      "text/plain": [
       "<class 'statsmodels.iolib.summary.Summary'>\n",
       "\"\"\"\n",
       "                              ARMA Model Results                              \n",
       "==============================================================================\n",
       "Dep. Variable:      response_variable   No. Observations:                  274\n",
       "Model:                     ARMA(1, 0)   Log Likelihood               -2825.004\n",
       "Method:                       css-mle   S.D. of innovations           7262.061\n",
       "Date:                Thu, 16 Nov 2017   AIC                           5656.007\n",
       "Time:                        22:07:38   BIC                           5666.847\n",
       "Sample:                    01-01-2016   HQIC                          5660.358\n",
       "                         - 09-30-2016                                         \n",
       "===========================================================================================\n",
       "                              coef    std err          z      P>|z|      [0.025      0.975]\n",
       "-------------------------------------------------------------------------------------------\n",
       "const                    4.669e+04   1139.445     40.972      0.000    4.45e+04    4.89e+04\n",
       "ar.L1.response_variable     0.6171      0.048     12.919      0.000       0.524       0.711\n",
       "                                    Roots                                    \n",
       "=============================================================================\n",
       "                 Real           Imaginary           Modulus         Frequency\n",
       "-----------------------------------------------------------------------------\n",
       "AR.1            1.6204           +0.0000j            1.6204            0.0000\n",
       "-----------------------------------------------------------------------------\n",
       "\"\"\""
      ]
     },
     "execution_count": 51,
     "metadata": {},
     "output_type": "execute_result"
    },
    {
     "data": {
      "image/png": "[encoded data removed]",
      "text/plain": [
       "<matplotlib.figure.Figure at 0x200acfdf710>"
      ]
     },
     "metadata": {},
     "output_type": "display_data"
    },
    {
     "data": {
      "image/png": "[encoded data removed]",
      "text/plain": [
       "<matplotlib.figure.Figure at 0x200acfdf7b8>"
      ]
     },
     "metadata": {},
     "output_type": "display_data"
    }
   ],
   "source": [
    "#%% Plot error. Low and random error suggest an accurate model\n",
    "import statsmodels.api as sm\n",
    "from sklearn.metrics import mean_absolute_error\n",
    "\n",
    "arima_model = ARIMA(train, (21,1,1)).fit()\n",
    "arima_model.summary()\n",
    "print(arima_model.resid.plot())\n",
    "print(plot_acf(arima_model.resid, lags = 50))\n",
    "\n",
    "predictions = arima_model.predict(\n",
    "    '2016-10-01',\n",
    "    '2016-12-31',\n",
    "    dynamic=True, \n",
    ")\n",
    "\n",
    "print(\"Mean absolute error: \", mean_absolute_error(test, predictions))\n",
    "model.summary()"
   ]
  },
  {
   "cell_type": "code",
   "execution_count": 58,
   "metadata": {},
   "outputs": [
    {
     "name": "stdout",
     "output_type": "stream",
     "text": [
      "39401.565217391304\n",
      "46571.48905109489\n",
      "-72.79043538828505\n"
     ]
    }
   ],
   "source": [
    "print(test.mean())\n",
    "print(train.mean())\n",
    "print(predictions.mean())"
   ]
  },
  {
   "cell_type": "code",
   "execution_count": null,
   "metadata": {
    "collapsed": true
   },
   "outputs": [],
   "source": []
  }
 ],
 "metadata": {
  "kernelspec": {
   "display_name": "Python 3",
   "language": "python",
   "name": "python3"
  },
  "language_info": {
   "codemirror_mode": {
    "name": "ipython",
    "version": 3
   },
   "file_extension": ".py",
   "mimetype": "text/x-python",
   "name": "python",
   "nbconvert_exporter": "python",
   "pygments_lexer": "ipython3",
   "version": "3.6.3"
  }
 },
 "nbformat": 4,
 "nbformat_minor": 2
}
