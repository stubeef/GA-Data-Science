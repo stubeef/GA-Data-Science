{
 "cells": [
  {
   "cell_type": "code",
   "execution_count": null,
   "metadata": {
    "collapsed": true
   },
   "outputs": [],
   "source": [
    "import pandas as pd\n",
    "import datetime as dt\n",
    "import numpy as np\n",
    "%matplotlib inline\n",
    "import seaborn as sns\n",
    "import matplotlib.pyplot as plt\n",
    "sns.set(font_scale=1.5)"
   ]
  },
  {
   "cell_type": "code",
   "execution_count": null,
   "metadata": {
    "collapsed": true
   },
   "outputs": [],
   "source": [
    "#Import data\n",
    "url = '2016_Green_Taxi_Trip_Data.csv'\n",
    "dftaxi = pd.read_csv(url)"
   ]
  },
  {
   "cell_type": "code",
   "execution_count": null,
   "metadata": {
    "collapsed": true
   },
   "outputs": [],
   "source": [
    "#%% Ensure data quality. Do not have incorrect longitudes's in dataset. \n",
    "dftaxi[dftaxi['Pickup_longitude'] > 0]   "
   ]
  },
  {
   "cell_type": "code",
   "execution_count": null,
   "metadata": {
    "collapsed": true
   },
   "outputs": [],
   "source": [
    "#%% QC to check the differences between latitudes/longitudes and response variable. 7M row discrepancy. \n",
    "dftaxi.count()"
   ]
  },
  {
   "cell_type": "code",
   "execution_count": null,
   "metadata": {
    "collapsed": true
   },
   "outputs": [],
   "source": [
    "#%% Parse date from datetime\n",
    "dftaxi['pickup_timestring'] = dftaxi['lpep_pickup_datetime'].apply(lambda x: x.split(\" \")[0]) #pickup_timestring\n",
    "dftaxi['dropoff_timestring'] = dftaxi['Lpep_dropoff_datetime'].apply(lambda x: x.split(\" \")[0]) #dropoff_timestring\n",
    "#%% Assign Response variable\n",
    "dftaxi['response_variable'] = np.where(dftaxi.pickup_timestring is not None & dftaxi.dropoff_timestring is not None, '1',0)\n",
    "dftaxi.head()"
   ]
  },
  {
   "cell_type": "code",
   "execution_count": null,
   "metadata": {
    "collapsed": true
   },
   "outputs": [],
   "source": [
    "#%% Check to ensure that all rows have a response variable\n",
    "dftaxi[dftaxi['response_variable'] == '0'] \n",
    "#returns empty dataframe! "
   ]
  },
  {
   "cell_type": "code",
   "execution_count": null,
   "metadata": {
    "collapsed": true
   },
   "outputs": [],
   "source": [
    "#%% Get month out of timestring\n",
    "dftaxi['pickup_timestring_month'] = dftaxi['pickup_timestring'].apply(lambda x: x.split(\"/\")[0]) #pickup_timestring_month\n",
    "print(dftaxi.head())\n",
    "#%% Get Day out of timestring\n",
    "dftaxi['pickup_timestring_day'] = dftaxi['pickup_timestring'].apply(lambda x: x.split(\"/\")[1]) #pickup_timestring_day"
   ]
  },
  {
   "cell_type": "code",
   "execution_count": null,
   "metadata": {
    "collapsed": true
   },
   "outputs": [],
   "source": [
    "#%% Subset to relevant columns.\n",
    "dftaxi = dftaxi[['pickup_timestring','pickup_timestring_month','pickup_timestring_day','Passenger_count','Trip_distance','Total_amount','response_variable']] # Add response variable\n",
    "print(dftaxi.head())\n",
    "print(dftaxi.dtypes)"
   ]
  },
  {
   "cell_type": "code",
   "execution_count": null,
   "metadata": {
    "collapsed": true
   },
   "outputs": [],
   "source": [
    "#%% Convert to numeric\n",
    "#dftaxi['Total_amount']=dftaxi['Total_amount'].apply(pd.to_numeric)\n",
    "dftaxi[['Total_amount','response_variable']] = dftaxi[['Total_amount','response_variable']].convert_objects(convert_numeric=True) #deprecated, yet works\n",
    "print(dftaxi.dtypes)"
   ]
  },
  {
   "cell_type": "code",
   "execution_count": null,
   "metadata": {
    "collapsed": true
   },
   "outputs": [],
   "source": [
    "#%% Group by day\n",
    "dftaxi_day = dftaxi[['pickup_timestring','pickup_timestring_month','pickup_timestring_day','Passenger_count','Trip_distance','Total_amount','response_variable']]\n",
    "dftaxi_day = dftaxi_day.groupby(['pickup_timestring','pickup_timestring_month','pickup_timestring_day'],as_index=False).sum()\n",
    "print(dftaxi_day.head())\n",
    "print('Number of rows in daily aggregated view', len(dftaxi_day))"
   ]
  },
  {
   "cell_type": "code",
   "execution_count": null,
   "metadata": {
    "collapsed": true
   },
   "outputs": [],
   "source": [
    "#%% Export clean file to CSV\n",
    "dftaxi_day.to_csv('dftaxi_by_day.csv',sep=',',index=False,header=True)"
   ]
  },
  {
   "cell_type": "code",
   "execution_count": null,
   "metadata": {
    "collapsed": true
   },
   "outputs": [],
   "source": [
    "dftaxi_day.head()\n",
    "#%% Patterns in daily data \n",
    "dftaxi_day.plot(x='pickup_timestring_month', y='response_variable',kind='line')"
   ]
  }
 ],
 "metadata": {
  "kernelspec": {
   "display_name": "Python 3",
   "language": "python",
   "name": "python3"
  },
  "language_info": {
   "codemirror_mode": {
    "name": "ipython",
    "version": 3
   },
   "file_extension": ".py",
   "mimetype": "text/x-python",
   "name": "python",
   "nbconvert_exporter": "python",
   "pygments_lexer": "ipython3",
   "version": "3.6.0"
  }
 },
 "nbformat": 4,
 "nbformat_minor": 2
}
